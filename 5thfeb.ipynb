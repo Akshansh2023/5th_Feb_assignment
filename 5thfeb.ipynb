{
 "cells": [
  {
   "cell_type": "markdown",
   "id": "14f5b6b2-5466-407c-9be6-810583c4c773",
   "metadata": {},
   "source": [
    "Q1. Explain Class and Object with respect to Object-Oriented Programming. Give a suitable example."
   ]
  },
  {
   "cell_type": "markdown",
   "id": "847fea68-c94c-4fc6-adaf-f522085369c8",
   "metadata": {},
   "source": [
    "#Answer\n",
    "A class is considered as a blueprint of objects.It defines a set of attributes and behaviors that an object of that class will have.\n",
    "An object is called an instance of a class.It is a real-world entity with attributes and behaviors that are defined by the class. \n",
    "An object has a state and a behavior, and it is created from a class.\n",
    "For example, suppose Bike is a class then we can create objects like bike1, bike2, etc from the class."
   ]
  },
  {
   "cell_type": "markdown",
   "id": "15b2747a-89c9-4d59-8864-50728e260a50",
   "metadata": {},
   "source": [
    "Q2. Name the four pillars of OOPs.\n",
    "#Answer \n",
    "The name of four pillars of OOP or Object Oriented Programming are as follows:\n",
    "\n",
    "1.Inheritance -->Inheritance is the mechanism for creating a child class that can inherit behavior and properties from a parent(derived) class.\n",
    "\n",
    "2.Encapsulation-->Encapsulation is the method of keeping all the state, variables, and methods private unless declared to be public.\n",
    "\n",
    "3.Polymorphism-->Polymorphism is a way of interfacing with objects and receiving different forms or results.\n",
    "\n",
    "4.Abstraction-->Abstraction is the concept of hiding all the implementation of your class away from anything outside of the class.\n"
   ]
  },
  {
   "cell_type": "markdown",
   "id": "215b6d0a-d2b0-442d-83a6-be25c8c8169e",
   "metadata": {},
   "source": [
    "Q3. Explain why the init() function is used. Give a suitable example."
   ]
  },
  {
   "cell_type": "code",
   "execution_count": null,
   "id": "c21a2fab-0c67-4128-83bb-447aad714551",
   "metadata": {},
   "outputs": [],
   "source": [
    " #Answer\n",
    "The init() function is used to initialize the attributes of an object at the time of its creation.\n",
    "It is a special method that is automatically called when an object is created from a class.\n",
    "The init() method is also known as a constructor.\n",
    "Example: \n",
    "    consider a car that represent's a \n"
   ]
  },
  {
   "cell_type": "code",
   "execution_count": 2,
   "id": "3449f81b-f725-40c9-939a-143d598665e3",
   "metadata": {},
   "outputs": [
    {
     "name": "stdout",
     "output_type": "stream",
     "text": [
      "Thar red\n"
     ]
    }
   ],
   "source": [
    "# Example: \n",
    "    # consider a car that attributes are car's model and color.\n",
    "    # Here, __init__ function used to initialize these attributes when a new object of the car class is created\n",
    "class car:\n",
    "    def __init__(self,model,color):\n",
    "        self.model=model\n",
    "        self.color=color\n",
    "car=car(\"Thar\",\"red\")\n",
    "print(car.model,car.color)"
   ]
  },
  {
   "cell_type": "code",
   "execution_count": null,
   "id": "ef67f904-4948-427e-8e4f-c16e69a9d108",
   "metadata": {},
   "outputs": [],
   "source": [
    "Q4. Why self is used in OOPs?"
   ]
  },
  {
   "cell_type": "code",
   "execution_count": null,
   "id": "8403c76b-d411-4384-8a41-330b02ff0f6f",
   "metadata": {},
   "outputs": [],
   "source": [
    "self represents the instance of the class. By using the “self”  we can access the attributes and methods of the class in python.\n",
    "It binds the attributes with the given arguments.\n",
    "The reason we need to use self. is because Python does not use the @ syntax to refer to instance attributes.\n",
    "Python decided to do methods in a way that makes the instance to which the method belongs be passed automatically, but not received automatically: the first parameter of methods is the instance the method is called on.\n",
    "we can also say that self is always pointing to Current Object."
   ]
  },
  {
   "cell_type": "code",
   "execution_count": null,
   "id": "cee2cc34-8e11-46fd-9c9e-6bc51d20dad8",
   "metadata": {},
   "outputs": [],
   "source": [
    "Q5. What is inheritance? Give an example for each type of inheritance."
   ]
  },
  {
   "cell_type": "code",
   "execution_count": null,
   "id": "9b65cc04-fbbd-41ef-acad-a49f13459281",
   "metadata": {},
   "outputs": [],
   "source": [
    "#answer \n",
    "Ans: Inheritance is a mechanism in object-oriented programming (OOP) that allows a new class to be derived from an existing class. \n",
    "The derived class inherits all the attributes and behaviors of the parent class and can also have its own attributes and behaviors. \n",
    "Inheritance enables code reuse and makes it easier to create and maintain large, complex systems.\n",
    "There are several types of inheritance, including:\n"
   ]
  },
  {
   "cell_type": "code",
   "execution_count": null,
   "id": "0ed12459-c69d-46a8-ad1f-ba7c79d31abb",
   "metadata": {},
   "outputs": [],
   "source": [
    "#1. Single inheritance: Single inheritance is a type of inheritance where a derived class inherits from a single base class.\n",
    "class Animal:\n",
    "    def __init__(self, species, legs):\n",
    "        self.species = species\n",
    "        self.legs = legs\n",
    "        \n",
    "    def make_sound(self):\n",
    "        print(\"Some animal sound\")\n",
    "        \n",
    "class Dog(Animal):\n",
    "    def __init__(self, breed):\n",
    "        Animal.__init__(self, \"Dog\", 4)\n",
    "        self.breed = breed\n",
    "        \n",
    "    def make_sound(self):\n",
    "        print(\"Bark\")\n",
    "        \n",
    "dog = Dog(\"Labrador\")\n",
    "print(dog.species) # outputs: \"Dog\"\n",
    "print(dog.legs) # outputs: 4\n",
    "dog.make_sound() # outputs: \"Bark\"\n",
    "# Dog\n",
    "# 4\n",
    "# Bark\n",
    "\n"
   ]
  },
  {
   "cell_type": "code",
   "execution_count": null,
   "id": "5c187e88-a790-43ba-bba2-69b5b4a73866",
   "metadata": {},
   "outputs": [],
   "source": [
    "#2. Multiple inheritance: Multiple inheritance is a type of inheritance where a derived class inherits from multiple base classes.\n",
    "# Example:\n",
    "\n",
    "class Animal:\n",
    "    def __init__(self, species, legs):\n",
    "        self.species = species\n",
    "        self.legs = legs\n",
    "        \n",
    "    def make_sound(self):\n",
    "        print(\"Some animal sound\")\n",
    "        \n",
    "class DomesticAnimal:\n",
    "    def __init__(self, domesticated):\n",
    "        self.domesticated = domesticated\n",
    "        \n",
    "class Dog(Animal, DomesticAnimal):\n",
    "    def __init__(self, breed):\n",
    "        Animal.__init__(self, \"Dog\", 4)\n",
    "        DomesticAnimal.__init__(self, True)\n",
    "        self.breed = breed\n",
    "        \n",
    "    def make_sound(self):\n",
    "        print(\"Bark\")\n",
    "        \n",
    "dog = Dog(\"Labrador\")\n",
    "print(dog.species) # outputs: \"Dog\"\n",
    "print(dog.legs) # outputs: 4\n",
    "print(dog.domesticated) # outputs: True\n",
    "dog.make_sound() # outputs: \"Bark\"\n",
    "# Dog\n",
    "# 4\n",
    "# True\n",
    "# Bark"
   ]
  },
  {
   "cell_type": "code",
   "execution_count": null,
   "id": "0a35ab67-dfae-47a1-ae16-7c4b82ff633a",
   "metadata": {},
   "outputs": [],
   "source": [
    "# 3. Multi-level inheritance: Multi-level inheritance is a type of inheritance where a derived class inherits from a base class, which in turn inherits from another base class.\n",
    "Example:\n",
    "\n",
    "class Animal:\n",
    "    def __init__(self, species, legs):\n",
    "        self.species = species\n",
    "        self.legs = legs\n",
    "        \n",
    "    def make_sound(self):\n",
    "        print(\"Some animal sound\")\n",
    "        \n",
    "class Mammal(Animal):\n",
    "    def __init__(self, fur):\n",
    "        Animal.__init__(self, \"Mammal\", 4)\n",
    "        self.fur = fur\n",
    "        \n",
    "class Dog(Mammal):\n",
    "    def __init__(self, breed):\n",
    "        Mammal.__init__(self, True)\n",
    "        self.breed = breed\n",
    "        \n",
    "    def make_sound(self):\n",
    "        print(\"Bark\")\n",
    "        \n",
    "dog = Dog(\"Labrador\")\n",
    "print(dog.species) # outputs: \"Mammal\"\n",
    "print(dog.legs) # outputs:\n",
    "# Mammal\n",
    "# 4"
   ]
  },
  {
   "cell_type": "code",
   "execution_count": null,
   "id": "552ce83f-df46-4505-aa41-949c15b20e85",
   "metadata": {},
   "outputs": [],
   "source": []
  },
  {
   "cell_type": "code",
   "execution_count": null,
   "id": "78178971-4ba2-4903-9157-39c027805f06",
   "metadata": {},
   "outputs": [],
   "source": []
  },
  {
   "cell_type": "code",
   "execution_count": null,
   "id": "945291f8-5773-4cdf-a237-3714b61d4ded",
   "metadata": {},
   "outputs": [],
   "source": []
  },
  {
   "cell_type": "code",
   "execution_count": null,
   "id": "92d57d57-6e83-49a8-9863-6f0437cfe996",
   "metadata": {},
   "outputs": [],
   "source": []
  },
  {
   "cell_type": "code",
   "execution_count": null,
   "id": "38e655de-91d4-4626-b852-decc8eed7823",
   "metadata": {},
   "outputs": [],
   "source": []
  },
  {
   "cell_type": "code",
   "execution_count": null,
   "id": "1d482eda-9c07-4272-ac51-1f9aeff7fd7a",
   "metadata": {},
   "outputs": [],
   "source": []
  },
  {
   "cell_type": "code",
   "execution_count": null,
   "id": "25b8c609-aaac-4331-9c40-d192eec1d100",
   "metadata": {},
   "outputs": [],
   "source": []
  },
  {
   "cell_type": "code",
   "execution_count": null,
   "id": "28837342-0ebd-49e6-969f-c211cbf0240f",
   "metadata": {},
   "outputs": [],
   "source": []
  }
 ],
 "metadata": {
  "kernelspec": {
   "display_name": "Python 3 (ipykernel)",
   "language": "python",
   "name": "python3"
  },
  "language_info": {
   "codemirror_mode": {
    "name": "ipython",
    "version": 3
   },
   "file_extension": ".py",
   "mimetype": "text/x-python",
   "name": "python",
   "nbconvert_exporter": "python",
   "pygments_lexer": "ipython3",
   "version": "3.10.8"
  }
 },
 "nbformat": 4,
 "nbformat_minor": 5
}
